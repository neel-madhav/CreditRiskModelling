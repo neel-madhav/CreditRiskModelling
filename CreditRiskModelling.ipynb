{
  "nbformat": 4,
  "nbformat_minor": 0,
  "metadata": {
    "colab": {
      "provenance": [],
      "authorship_tag": "ABX9TyPkyje7oGaOBAyz7/oIdAIv",
      "include_colab_link": true
    },
    "kernelspec": {
      "name": "python3",
      "display_name": "Python 3"
    },
    "language_info": {
      "name": "python"
    }
  },
  "cells": [
    {
      "cell_type": "markdown",
      "metadata": {
        "id": "view-in-github",
        "colab_type": "text"
      },
      "source": [
        "<a href=\"https://colab.research.google.com/github/neel-madhav/CreditRiskModelling/blob/main/CreditRiskModelling.ipynb\" target=\"_parent\"><img src=\"https://colab.research.google.com/assets/colab-badge.svg\" alt=\"Open In Colab\"/></a>"
      ]
    },
    {
      "cell_type": "markdown",
      "source": [
        "# Import Libraries"
      ],
      "metadata": {
        "id": "Vcg9PqyOAoPy"
      }
    },
    {
      "cell_type": "code",
      "source": [
        "import pandas as pd\n",
        "import numpy as np\n",
        "from matplotlib import pyplot as plt\n",
        "import seaborn as sns\n",
        "from sklearn.model_selection import train_test_split"
      ],
      "metadata": {
        "id": "Y_GwVav9AtHE"
      },
      "execution_count": 1,
      "outputs": []
    },
    {
      "cell_type": "code",
      "source": [
        "df_bureaudata = pd.read_csv('bureau_data.csv')\n",
        "df_customerdata = pd.read_csv('customers.csv')\n",
        "df_loandata = pd.read_csv('loans.csv')\n",
        "df_bureaudata.shape, df_customerdata.shape, df_loandata.shape"
      ],
      "metadata": {
        "colab": {
          "base_uri": "https://localhost:8080/"
        },
        "id": "ppXlXYWSBOaR",
        "outputId": "09c7a38b-8a4d-43e4-d557-c1d8171a3267"
      },
      "execution_count": 2,
      "outputs": [
        {
          "output_type": "execute_result",
          "data": {
            "text/plain": [
              "((50000, 8), (50000, 12), (50000, 15))"
            ]
          },
          "metadata": {},
          "execution_count": 2
        }
      ]
    },
    {
      "cell_type": "code",
      "source": [
        "df = pd.merge(df_customerdata, df_loandata, on='cust_id')\n",
        "df = pd.merge(df, df_bureaudata)\n",
        "df.info()"
      ],
      "metadata": {
        "colab": {
          "base_uri": "https://localhost:8080/"
        },
        "id": "LIDdEgX6Bo7F",
        "outputId": "51457d33-7ae5-45f5-ecda-2d45df9d08b8"
      },
      "execution_count": 3,
      "outputs": [
        {
          "output_type": "stream",
          "name": "stdout",
          "text": [
            "<class 'pandas.core.frame.DataFrame'>\n",
            "RangeIndex: 50000 entries, 0 to 49999\n",
            "Data columns (total 33 columns):\n",
            " #   Column                       Non-Null Count  Dtype  \n",
            "---  ------                       --------------  -----  \n",
            " 0   cust_id                      50000 non-null  object \n",
            " 1   age                          50000 non-null  int64  \n",
            " 2   gender                       50000 non-null  object \n",
            " 3   marital_status               50000 non-null  object \n",
            " 4   employment_status            50000 non-null  object \n",
            " 5   income                       50000 non-null  int64  \n",
            " 6   number_of_dependants         50000 non-null  int64  \n",
            " 7   residence_type               49938 non-null  object \n",
            " 8   years_at_current_address     50000 non-null  int64  \n",
            " 9   city                         50000 non-null  object \n",
            " 10  state                        50000 non-null  object \n",
            " 11  zipcode                      50000 non-null  int64  \n",
            " 12  loan_id                      50000 non-null  object \n",
            " 13  loan_purpose                 50000 non-null  object \n",
            " 14  loan_type                    50000 non-null  object \n",
            " 15  sanction_amount              50000 non-null  int64  \n",
            " 16  loan_amount                  50000 non-null  int64  \n",
            " 17  processing_fee               50000 non-null  float64\n",
            " 18  gst                          50000 non-null  int64  \n",
            " 19  net_disbursement             50000 non-null  int64  \n",
            " 20  loan_tenure_months           50000 non-null  int64  \n",
            " 21  principal_outstanding        50000 non-null  int64  \n",
            " 22  bank_balance_at_application  50000 non-null  int64  \n",
            " 23  disbursal_date               50000 non-null  object \n",
            " 24  installment_start_dt         50000 non-null  object \n",
            " 25  default                      50000 non-null  bool   \n",
            " 26  number_of_open_accounts      50000 non-null  int64  \n",
            " 27  number_of_closed_accounts    50000 non-null  int64  \n",
            " 28  total_loan_months            50000 non-null  int64  \n",
            " 29  delinquent_months            50000 non-null  int64  \n",
            " 30  total_dpd                    50000 non-null  int64  \n",
            " 31  enquiry_count                50000 non-null  int64  \n",
            " 32  credit_utilization_ratio     50000 non-null  int64  \n",
            "dtypes: bool(1), float64(1), int64(19), object(12)\n",
            "memory usage: 12.3+ MB\n"
          ]
        }
      ]
    },
    {
      "cell_type": "code",
      "source": [
        "df['default'] = df['default'].astype(int)\n",
        "df.default.value_counts()"
      ],
      "metadata": {
        "colab": {
          "base_uri": "https://localhost:8080/",
          "height": 178
        },
        "id": "vCxkGBPdCbgr",
        "outputId": "0361ab79-72fa-4207-c6f0-1e07cfbf7146"
      },
      "execution_count": 4,
      "outputs": [
        {
          "output_type": "execute_result",
          "data": {
            "text/plain": [
              "default\n",
              "0    45703\n",
              "1     4297\n",
              "Name: count, dtype: int64"
            ],
            "text/html": [
              "<div>\n",
              "<style scoped>\n",
              "    .dataframe tbody tr th:only-of-type {\n",
              "        vertical-align: middle;\n",
              "    }\n",
              "\n",
              "    .dataframe tbody tr th {\n",
              "        vertical-align: top;\n",
              "    }\n",
              "\n",
              "    .dataframe thead th {\n",
              "        text-align: right;\n",
              "    }\n",
              "</style>\n",
              "<table border=\"1\" class=\"dataframe\">\n",
              "  <thead>\n",
              "    <tr style=\"text-align: right;\">\n",
              "      <th></th>\n",
              "      <th>count</th>\n",
              "    </tr>\n",
              "    <tr>\n",
              "      <th>default</th>\n",
              "      <th></th>\n",
              "    </tr>\n",
              "  </thead>\n",
              "  <tbody>\n",
              "    <tr>\n",
              "      <th>0</th>\n",
              "      <td>45703</td>\n",
              "    </tr>\n",
              "    <tr>\n",
              "      <th>1</th>\n",
              "      <td>4297</td>\n",
              "    </tr>\n",
              "  </tbody>\n",
              "</table>\n",
              "</div><br><label><b>dtype:</b> int64</label>"
            ]
          },
          "metadata": {},
          "execution_count": 4
        }
      ]
    },
    {
      "cell_type": "markdown",
      "source": [
        "## Data Leakage"
      ],
      "metadata": {
        "id": "oUfHtCazUYg5"
      }
    },
    {
      "cell_type": "code",
      "source": [
        "X = df.drop(\"default\", axis = \"columns\")\n",
        "Y = df[\"default\"]\n",
        "X_train, X_test, Y_train, Y_test = train_test_split(X, Y, test_size =0.25, random_state=45)\n",
        "df_train = pd.concat([X_train, Y_train], axis = \"columns\")\n",
        "df_test = pd.concat([X_test, Y_test], axis = \"columns\")"
      ],
      "metadata": {
        "id": "I-9kT-yjGIRE"
      },
      "execution_count": 8,
      "outputs": []
    }
  ]
}